{
 "cells": [
  {
   "cell_type": "markdown",
   "id": "c3cc8704",
   "metadata": {},
   "source": [
    "# PCA"
   ]
  },
  {
   "cell_type": "markdown",
   "id": "d17fa09a",
   "metadata": {},
   "source": [
    "In this notebook I will implement a PCA (Principal component analysis),\n",
    "PCA is a method to compress data, by reducing the number of columns but still keeping the maximum of information\n",
    "\n",
    "It seems that there is different approach for implementing a PCA but here are the steps I followed:\n",
    "\n",
    "- standardize data\n",
    "- construct the covariance matrix\n",
    "- find eigenvalues and eigenvector using **numpy.alg.eig**\n",
    "- once we have the eigen vectors and eigen value compute, \n",
    "we need to compare eigen values between each other to see which one contains the highest variance (the more variance, the more info it has)\n",
    "Say there is $m$ eigen values we will compute the variance in this way $\\frac{\\lambda_i}{\\lambda_1 + ... + \\lambda_m}$\n",
    "- Then we build the feature vector from the selected eigen vector we want to keep (containing the most info), before make sure that the selected eigen vector are all perpendicular to each other\n",
    "- Obtain the new generated data following this formula: $XV^T$ ($X$ being the scaled data, $V$ the feature vector)"
   ]
  },
  {
   "cell_type": "code",
   "execution_count": 1,
   "id": "dd8448cf",
   "metadata": {},
   "outputs": [],
   "source": [
    "import numpy\n",
    "import random"
   ]
  },
  {
   "cell_type": "code",
   "execution_count": 2,
   "id": "5277285c",
   "metadata": {},
   "outputs": [],
   "source": [
    "random.seed(4) # setting the seed so that it can be reproduceable"
   ]
  },
  {
   "cell_type": "markdown",
   "id": "c7263d19",
   "metadata": {},
   "source": [
    "**generating the data from numpy.random.rand**"
   ]
  },
  {
   "cell_type": "code",
   "execution_count": 3,
   "id": "2e39bc82",
   "metadata": {},
   "outputs": [],
   "source": [
    "data = numpy.random.rand(100, 3) # data is alreay standardized according to the doc"
   ]
  },
  {
   "cell_type": "markdown",
   "id": "9a8bdc7c",
   "metadata": {},
   "source": [
    "**build covariance matrix**"
   ]
  },
  {
   "cell_type": "code",
   "execution_count": 4,
   "id": "7a109fbc",
   "metadata": {},
   "outputs": [
    {
     "data": {
      "text/plain": [
       "array([[ 0.08197434,  0.01061024, -0.00338553],\n",
       "       [ 0.01061024,  0.06787558,  0.00317565],\n",
       "       [-0.00338553,  0.00317565,  0.06162227]])"
      ]
     },
     "execution_count": 4,
     "metadata": {},
     "output_type": "execute_result"
    }
   ],
   "source": [
    "covMatrix = numpy.cov((data[:,0], data[:,1], data[:,2]))\n",
    "covMatrix"
   ]
  },
  {
   "cell_type": "code",
   "execution_count": 5,
   "id": "705de0dc",
   "metadata": {},
   "outputs": [],
   "source": [
    "eigvalues, eigvectors  = numpy.linalg.eig(covMatrix)"
   ]
  },
  {
   "cell_type": "code",
   "execution_count": 6,
   "id": "530c54cf",
   "metadata": {},
   "outputs": [
    {
     "data": {
      "text/plain": [
       "(3,)"
      ]
     },
     "execution_count": 6,
     "metadata": {},
     "output_type": "execute_result"
    }
   ],
   "source": [
    "eigvalues.shape"
   ]
  },
  {
   "cell_type": "code",
   "execution_count": 7,
   "id": "9fe0f3e6",
   "metadata": {},
   "outputs": [
    {
     "data": {
      "text/plain": [
       "(3, 3)"
      ]
     },
     "execution_count": 7,
     "metadata": {},
     "output_type": "execute_result"
    }
   ],
   "source": [
    "eigvectors.shape"
   ]
  },
  {
   "cell_type": "code",
   "execution_count": 8,
   "id": "67021095",
   "metadata": {},
   "outputs": [
    {
     "data": {
      "text/plain": [
       "array([[-0.88450098, -0.30468343,  0.35330726],\n",
       "       [-0.46287498,  0.66782321, -0.58288842],\n",
       "       [ 0.05835035,  0.67910247,  0.73172062]])"
      ]
     },
     "execution_count": 8,
     "metadata": {},
     "output_type": "execute_result"
    }
   ],
   "source": [
    "eigvectors"
   ]
  },
  {
   "cell_type": "code",
   "execution_count": 9,
   "id": "b4f6bd52",
   "metadata": {},
   "outputs": [
    {
     "data": {
      "text/plain": [
       "array([0.41494919, 0.3133467 , 0.27170411])"
      ]
     },
     "execution_count": 9,
     "metadata": {},
     "output_type": "execute_result"
    }
   ],
   "source": [
    "# compute variance\n",
    "\n",
    "variance = eigvalues / eigvalues.sum()\n",
    "variance"
   ]
  },
  {
   "cell_type": "markdown",
   "id": "0015c5e1",
   "metadata": {},
   "source": [
    "*we can notice that the variance is more or less equally proportioned*"
   ]
  },
  {
   "cell_type": "code",
   "execution_count": 13,
   "id": "9dbb40b8",
   "metadata": {},
   "outputs": [
    {
     "data": {
      "text/plain": [
       "<AxesSubplot:>"
      ]
     },
     "execution_count": 13,
     "metadata": {},
     "output_type": "execute_result"
    },
    {
     "data": {
      "image/png": "[encoded data removed]",
      "text/plain": [
       "<Figure size 432x288 with 1 Axes>"
      ]
     },
     "metadata": {
      "needs_background": "light"
     },
     "output_type": "display_data"
    }
   ],
   "source": [
    "import seaborn\n",
    "\n",
    "seaborn.barplot(x=[0, 1, 2], y=variance)"
   ]
  },
  {
   "cell_type": "markdown",
   "id": "f3d13088",
   "metadata": {},
   "source": [
    "*Lets get the new data by just selecting only the first eigenvector (having the highest variance) as the feature vector*"
   ]
  },
  {
   "cell_type": "code",
   "execution_count": 15,
   "id": "3006b52d",
   "metadata": {},
   "outputs": [
    {
     "data": {
      "text/plain": [
       "(100,)"
      ]
     },
     "execution_count": 15,
     "metadata": {},
     "output_type": "execute_result"
    }
   ],
   "source": [
    "new_data = numpy.dot(data, eigvectors[1,:].T)\n",
    "new_data.shape"
   ]
  },
  {
   "cell_type": "code",
   "execution_count": null,
   "id": "01bd5396",
   "metadata": {},
   "outputs": [],
   "source": []
  }
 ],
 "metadata": {
  "kernelspec": {
   "display_name": "Python 3 (ipykernel)",
   "language": "python",
   "name": "python3"
  },
  "language_info": {
   "codemirror_mode": {
    "name": "ipython",
    "version": 3
   },
   "file_extension": ".py",
   "mimetype": "text/x-python",
   "name": "python",
   "nbconvert_exporter": "python",
   "pygments_lexer": "ipython3",
   "version": "3.9.13"
  }
 },
 "nbformat": 4,
 "nbformat_minor": 5
}
