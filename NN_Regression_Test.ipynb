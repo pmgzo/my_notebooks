{
 "cells": [
  {
   "cell_type": "markdown",
   "id": "79c54566",
   "metadata": {},
   "source": [
    "# Neural network for regression tasks\n",
    "**here I just tested a neural for regression task, bellow we will find the used datasets**\n",
    "\n",
    "Airfoil Self-Noise : https://archive.ics.uci.edu/ml/datasets/airfoil+self-noise"
   ]
  },
  {
   "cell_type": "code",
   "execution_count": null,
   "id": "d6a00b82",
   "metadata": {},
   "outputs": [],
   "source": [
    "import numpy\n",
    "import plotly\n",
    "import pandas"
   ]
  },
  {
   "cell_type": "code",
   "execution_count": 2,
   "id": "20fe7805",
   "metadata": {},
   "outputs": [],
   "source": [
    "class Sigmoid:\n",
    "    def function(data):\n",
    "        return 1 / (1 + numpy.exp(-data))\n",
    "    \n",
    "    def derivative(data):\n",
    "        return Sigmoid.function(data) - Sigmoid.function(data)**2\n",
    "\n",
    "class ReLU:\n",
    "    def function(data):\n",
    "        return numpy.maximum(data, 0)\n",
    "    def derivative(data):\n",
    "        return (data > 0) * 1\n",
    "\n",
    "class Mse:\n",
    "    # maybe to change\n",
    "    def function(data, expected):\n",
    "        return (1 / data.shape[0]) * numpy.sum((expected - data)**2)\n",
    "        \n",
    "\n",
    "    def derivative(y, predicted):\n",
    "        return predicted - y\n",
    "\n",
    "class NeuralNet:\n",
    "    def __init__(self, layers, learning_rate, a_fct, epochs, minibatch=None):\n",
    "        self.nets = []\n",
    "        self.biases = []\n",
    "        self.epochs = epochs\n",
    "        self.learning_rate = learning_rate\n",
    "        self.a_fct = a_fct\n",
    "        self.minibatch = minibatch\n",
    "        layers = zip(layers, layers[1:])\n",
    "        for i in layers:\n",
    "            net = numpy.random.rand(i[1],i[0])\n",
    "            b = numpy.random.rand(i[1])\n",
    "            self.nets.append(net)\n",
    "            self.biases.append(b)\n",
    "\n",
    "    def feed_forward(self, data, training=False):\n",
    "        a = [data]\n",
    "        for i in range(0, len(self.nets)):\n",
    "            data = numpy.dot(data, self.nets[i].T) + self.biases[i]\n",
    "            if training:\n",
    "                a.append(data)\n",
    "            data = self.a_fct.function(data)\n",
    "        if training:\n",
    "            return a, data\n",
    "        return data\n",
    "    \n",
    "    def evaluate(self, test_data):\n",
    "        error = 0\n",
    "        for ipt, expected in test_data:\n",
    "            output = self.feed_forward(ipt)\n",
    "            error += Mse.function(output, expected)\n",
    "        return error / len(test_data)\n",
    "\n",
    "\n",
    "    def train_sample(self, data):\n",
    "        delta_b = [ numpy.zeros(self.biases[i].shape) for i in range(len(self.nets))]\n",
    "        delta_w = [ numpy.zeros(self.nets[i].shape) for i in range(len(self.nets))]\n",
    "        for feed,expected in data:\n",
    "            a, data = self.feed_forward(feed, training=True)\n",
    "            \n",
    "            # first delta\n",
    "            delta = Mse.derivative(expected, data) * self.a_fct.derivative(a[-1])\n",
    "            \n",
    "            delta_w[-1] += numpy.outer(delta, self.a_fct.function(a[-2]))\n",
    "            delta_b[-1] += delta\n",
    "            \n",
    "            next_w_index = len(self.nets) - 2\n",
    "            next_layer_index = (len(self.nets) + 1) - 2\n",
    "            \n",
    "            for i in range(next_w_index, -1, -1):\n",
    "                delta = numpy.dot(self.nets[i + 1].T, delta) * self.a_fct.derivative(a[next_layer_index])\n",
    "                delta_b[i] += delta\n",
    "                if (next_layer_index - 1) == 0:\n",
    "                    delta_w[i] += numpy.outer(delta, a[next_layer_index - 1])\n",
    "                else:\n",
    "                    delta_w[i] += numpy.outer(delta, self.a_fct.function(a[next_layer_index - 1]))\n",
    "                next_layer_index = next_layer_index - 1\n",
    "                \n",
    "        return delta_b, delta_w\n",
    "\n",
    "    def train(self, train_data, test_data):\n",
    "        error_arr = [] \n",
    "        for i in range(0, self.epochs):\n",
    "            self.mini_batch(train_data, 1/5)\n",
    "\n",
    "            # return error rate\n",
    "            error_rate = self.evaluate(test_data)\n",
    "            error_arr.append(error_rate)\n",
    "        return error_arr\n",
    "\n",
    "    # decided to use the mini batch gd because it is a compromise between sgd(change gradient for each training data input) and bgd(change gradient after getting gradient from all train dataset)\n",
    "    def mini_batch(self, train_data, minib_portion): # portion between 0 and 1\n",
    "        numpy.random.shuffle(train_data)\n",
    "        nb_of_input = len(train_data)\n",
    "        k = self.minibatch\n",
    "        if k == None:\n",
    "            k = int(nb_of_input * minib_portion)\n",
    "\n",
    "        for i in range(k, nb_of_input, k):\n",
    "            \n",
    "            delta_b, delta_w = self.train_sample(train_data[i - k:i])\n",
    "            for i in range(len(self.biases)):\n",
    "                self.biases[i] = self.biases[i] - self.learning_rate * delta_b[i] / k\n",
    "                self.nets[i] = self.nets[i] - self.learning_rate * delta_w[i] / k\n",
    "        # epoch finished\n",
    "\n",
    "    # just to test the gd\n",
    "    def with_one_sample(self, sample):\n",
    "        # training \n",
    "        (feed, expected) = sample\n",
    "        print(\"feed :\", feed)\n",
    "        delta_b = [ numpy.zeros(self.biases[i].shape) for i in range(len(self.nets))]\n",
    "        delta_w = [ numpy.zeros(self.nets[i].shape) for i in range(len(self.nets))]\n",
    "        a, data = self.feed_forward(feed, training=True)\n",
    "\n",
    "        # first delta\n",
    "        \n",
    "        print(data)\n",
    "        print(expected)\n",
    "        \n",
    "        delta = Mse.derivative(expected, data) * self.a_fct.derivative(a[-1])\n",
    "\n",
    "        delta_w[-1] = numpy.outer(delta, self.a_fct.function(a[-2]))\n",
    "        delta_b[-1] = delta\n",
    "\n",
    "        next_w_index = len(self.nets) - 2\n",
    "        next_layer_index = (len(self.nets) + 1) - 2\n",
    "\n",
    "        \n",
    "        for i in range(next_w_index, -1, -1):\n",
    "            delta = numpy.dot(self.nets[i + 1].T, delta) * self.a_fct.derivative(a[next_layer_index])\n",
    "            delta_b[i] = delta\n",
    "            if (next_layer_index - 1) == 0:\n",
    "                delta_w[i] = numpy.outer(delta, a[next_layer_index - 1])\n",
    "            else:\n",
    "                delta_w[i] = numpy.outer(delta, self.a_fct.function(a[next_layer_index - 1]))\n",
    "            next_layer_index = next_layer_index - 1\n",
    "        \n",
    "        for i in range(len(self.biases)):\n",
    "            self.biases[i]  -= self.learning_rate * delta_b[i]\n",
    "            self.nets[i] -= self.learning_rate * delta_w[i]\n",
    "\n",
    "        output = self.feed_forward(feed)\n",
    "        error = numpy.sum(Mse.function(output, expected))\n",
    "        \n",
    "        return error\n",
    "    \n",
    "# data scalling method: needed so that each variable is \"considered\" equally\n",
    "# the downside of normalization is if in your data there is outsiders the results will be biased, on the other hand\n",
    "# if I used standardization I will assumed that the given data is normally distributed\n",
    "\n",
    "def normalization(data):\n",
    "    data_min = numpy.min(data)\n",
    "    data_max = numpy.max(data)\n",
    "    return (data - data_min) / (data_max - data_min)\n"
   ]
  },
  {
   "cell_type": "code",
   "execution_count": 10,
   "id": "0853613b",
   "metadata": {},
   "outputs": [
    {
     "data": {
      "text/html": [
       "<div>\n",
       "<style scoped>\n",
       "    .dataframe tbody tr th:only-of-type {\n",
       "        vertical-align: middle;\n",
       "    }\n",
       "\n",
       "    .dataframe tbody tr th {\n",
       "        vertical-align: top;\n",
       "    }\n",
       "\n",
       "    .dataframe thead th {\n",
       "        text-align: right;\n",
       "    }\n",
       "</style>\n",
       "<table border=\"1\" class=\"dataframe\">\n",
       "  <thead>\n",
       "    <tr style=\"text-align: right;\">\n",
       "      <th></th>\n",
       "      <th>0</th>\n",
       "      <th>1</th>\n",
       "      <th>2</th>\n",
       "      <th>3</th>\n",
       "      <th>4</th>\n",
       "      <th>5</th>\n",
       "    </tr>\n",
       "  </thead>\n",
       "  <tbody>\n",
       "    <tr>\n",
       "      <th>0</th>\n",
       "      <td>800</td>\n",
       "      <td>0.0</td>\n",
       "      <td>0.3048</td>\n",
       "      <td>71.3</td>\n",
       "      <td>0.002663</td>\n",
       "      <td>126.201</td>\n",
       "    </tr>\n",
       "    <tr>\n",
       "      <th>1</th>\n",
       "      <td>1000</td>\n",
       "      <td>0.0</td>\n",
       "      <td>0.3048</td>\n",
       "      <td>71.3</td>\n",
       "      <td>0.002663</td>\n",
       "      <td>125.201</td>\n",
       "    </tr>\n",
       "    <tr>\n",
       "      <th>2</th>\n",
       "      <td>1250</td>\n",
       "      <td>0.0</td>\n",
       "      <td>0.3048</td>\n",
       "      <td>71.3</td>\n",
       "      <td>0.002663</td>\n",
       "      <td>125.951</td>\n",
       "    </tr>\n",
       "    <tr>\n",
       "      <th>3</th>\n",
       "      <td>1600</td>\n",
       "      <td>0.0</td>\n",
       "      <td>0.3048</td>\n",
       "      <td>71.3</td>\n",
       "      <td>0.002663</td>\n",
       "      <td>127.591</td>\n",
       "    </tr>\n",
       "    <tr>\n",
       "      <th>4</th>\n",
       "      <td>2000</td>\n",
       "      <td>0.0</td>\n",
       "      <td>0.3048</td>\n",
       "      <td>71.3</td>\n",
       "      <td>0.002663</td>\n",
       "      <td>127.461</td>\n",
       "    </tr>\n",
       "    <tr>\n",
       "      <th>...</th>\n",
       "      <td>...</td>\n",
       "      <td>...</td>\n",
       "      <td>...</td>\n",
       "      <td>...</td>\n",
       "      <td>...</td>\n",
       "      <td>...</td>\n",
       "    </tr>\n",
       "    <tr>\n",
       "      <th>1498</th>\n",
       "      <td>2500</td>\n",
       "      <td>15.6</td>\n",
       "      <td>0.1016</td>\n",
       "      <td>39.6</td>\n",
       "      <td>0.052849</td>\n",
       "      <td>110.264</td>\n",
       "    </tr>\n",
       "    <tr>\n",
       "      <th>1499</th>\n",
       "      <td>3150</td>\n",
       "      <td>15.6</td>\n",
       "      <td>0.1016</td>\n",
       "      <td>39.6</td>\n",
       "      <td>0.052849</td>\n",
       "      <td>109.254</td>\n",
       "    </tr>\n",
       "    <tr>\n",
       "      <th>1500</th>\n",
       "      <td>4000</td>\n",
       "      <td>15.6</td>\n",
       "      <td>0.1016</td>\n",
       "      <td>39.6</td>\n",
       "      <td>0.052849</td>\n",
       "      <td>106.604</td>\n",
       "    </tr>\n",
       "    <tr>\n",
       "      <th>1501</th>\n",
       "      <td>5000</td>\n",
       "      <td>15.6</td>\n",
       "      <td>0.1016</td>\n",
       "      <td>39.6</td>\n",
       "      <td>0.052849</td>\n",
       "      <td>106.224</td>\n",
       "    </tr>\n",
       "    <tr>\n",
       "      <th>1502</th>\n",
       "      <td>6300</td>\n",
       "      <td>15.6</td>\n",
       "      <td>0.1016</td>\n",
       "      <td>39.6</td>\n",
       "      <td>0.052849</td>\n",
       "      <td>104.204</td>\n",
       "    </tr>\n",
       "  </tbody>\n",
       "</table>\n",
       "<p>1503 rows × 6 columns</p>\n",
       "</div>"
      ],
      "text/plain": [
       "         0     1       2     3         4        5\n",
       "0      800   0.0  0.3048  71.3  0.002663  126.201\n",
       "1     1000   0.0  0.3048  71.3  0.002663  125.201\n",
       "2     1250   0.0  0.3048  71.3  0.002663  125.951\n",
       "3     1600   0.0  0.3048  71.3  0.002663  127.591\n",
       "4     2000   0.0  0.3048  71.3  0.002663  127.461\n",
       "...    ...   ...     ...   ...       ...      ...\n",
       "1498  2500  15.6  0.1016  39.6  0.052849  110.264\n",
       "1499  3150  15.6  0.1016  39.6  0.052849  109.254\n",
       "1500  4000  15.6  0.1016  39.6  0.052849  106.604\n",
       "1501  5000  15.6  0.1016  39.6  0.052849  106.224\n",
       "1502  6300  15.6  0.1016  39.6  0.052849  104.204\n",
       "\n",
       "[1503 rows x 6 columns]"
      ]
     },
     "execution_count": 10,
     "metadata": {},
     "output_type": "execute_result"
    }
   ],
   "source": [
    "# convert into csv tmls\n",
    "import random\n",
    "data = pandas.read_csv(\"./airfoil_self_noise.dat\", header=None, sep=\"\\t\")\n",
    "#data = pandas.read_csv(\"./airfoil_self_noise.dat\", skiprows=[1]).rename(columns={\"class\": \"c\"})\n",
    "data"
   ]
  },
  {
   "cell_type": "code",
   "execution_count": 11,
   "id": "2a5e7145",
   "metadata": {},
   "outputs": [],
   "source": [
    "data.to_csv(\"airfoil_self_noise.csv\", index=False) # remove index from table"
   ]
  },
  {
   "cell_type": "code",
   "execution_count": 16,
   "id": "9fb6ef4e",
   "metadata": {},
   "outputs": [],
   "source": [
    "data = pandas.read_csv(\"./airfoil_self_noise.tmls\", skiprows=[1]).rename(columns={\"sound pressure level\": \"c\"})\n",
    "\n",
    "# normalize data\n",
    "varbls = [i for i in data.columns.to_list() if i != \"c\"]\n",
    "\n",
    "for v in varbls:\n",
    "    data[v] = normalization(data[v].to_numpy())\n",
    "\n",
    "inp = data.loc[:, data.columns!='c'].to_numpy()   \n",
    "expected = data.loc[:, data.columns=='c'].to_numpy()"
   ]
  },
  {
   "cell_type": "code",
   "execution_count": 13,
   "id": "7c9a55b9",
   "metadata": {},
   "outputs": [],
   "source": [
    "# used to decide nb of hidden layers and nb of perceptron per hidden layer:\n",
    "# https://www.kdnuggets.com/2019/11/designing-neural-networks.html"
   ]
  },
  {
   "cell_type": "code",
   "execution_count": 17,
   "id": "52c7cf22",
   "metadata": {},
   "outputs": [
    {
     "data": {
      "text/plain": [
       "array([[126.201],\n",
       "       [125.201],\n",
       "       [125.951],\n",
       "       ...,\n",
       "       [106.604],\n",
       "       [106.224],\n",
       "       [104.204]])"
      ]
     },
     "execution_count": 17,
     "metadata": {},
     "output_type": "execute_result"
    }
   ],
   "source": [
    "expected"
   ]
  },
  {
   "cell_type": "code",
   "execution_count": 19,
   "id": "fdc1d346",
   "metadata": {},
   "outputs": [
    {
     "name": "stdout",
     "output_type": "stream",
     "text": [
      "1503\n"
     ]
    }
   ],
   "source": [
    "print(len(expected))"
   ]
  },
  {
   "cell_type": "code",
   "execution_count": 21,
   "id": "fe161bf0",
   "metadata": {},
   "outputs": [],
   "source": [
    "traindata_edge = int(len(expected) * 0.8)"
   ]
  },
  {
   "cell_type": "code",
   "execution_count": 23,
   "id": "57c50c98",
   "metadata": {},
   "outputs": [
    {
     "data": {
      "text/plain": [
       "5"
      ]
     },
     "execution_count": 23,
     "metadata": {},
     "output_type": "execute_result"
    }
   ],
   "source": [
    "dataset = zip(inp, expected)\n",
    "a = list(dataset)\n",
    "\n",
    "random.shuffle(a)\n",
    "\n",
    "train_data = a[:traindata_edge] # %80\n",
    "test_data = a[traindata_edge:] # %20\n",
    "len(varbls)"
   ]
  },
  {
   "cell_type": "code",
   "execution_count": 38,
   "id": "7ef1f52e",
   "metadata": {},
   "outputs": [
    {
     "data": {
      "application/vnd.plotly.v1+json": {
       "config": {
        "plotlyServerURL": "https://plot.ly"
       },
       "data": [
        {
         "hovertemplate": "variable=0<br>index=%{x}<br>value=%{y}<extra></extra>",
         "legendgroup": "0",
         "line": {
          "color": "#636efa",
          "dash": "solid"
         },
         "marker": {
          "symbol": "circle"
         },
         "mode": "lines",
         "name": "0",
         "orientation": "v",
         "showlegend": true,
         "type": "scatter",
         "x": [
          0,
          1,
          2,
          3,
          4,
          5,
          6,
          7,
          8,
          9,
          10,
          11,
          12,
          13,
          14,
          15,
          16,
          17,
          18,
          19,
          20,
          21,
          22,
          23,
          24,
          25,
          26,
          27,
          28,
          29,
          30,
          31,
          32,
          33,
          34,
          35,
          36,
          37,
          38,
          39,
          40,
          41,
          42,
          43,
          44,
          45,
          46,
          47,
          48,
          49,
          50,
          51,
          52,
          53,
          54,
          55,
          56,
          57,
          58,
          59,
          60,
          61,
          62,
          63,
          64,
          65,
          66,
          67,
          68,
          69,
          70,
          71,
          72,
          73,
          74,
          75,
          76,
          77,
          78,
          79,
          80,
          81,
          82,
          83,
          84,
          85,
          86,
          87,
          88,
          89,
          90,
          91,
          92,
          93,
          94,
          95,
          96,
          97,
          98,
          99
         ],
         "xaxis": "x",
         "y": [
          2500.961563180905,
          684.6755310892338,
          603.0925006598483,
          537.1879171947003,
          478.02308477996615,
          430.30761698825796,
          387.9577944003844,
          351.3350540917202,
          320.8478928057588,
          294.00078399839373,
          267.71546914062094,
          246.43144628928715,
          226.7513735547129,
          211.77239412416424,
          195.37356156048068,
          179.40958235744924,
          166.57994008516616,
          155.5642840421056,
          144.64551053937646,
          136.2321499369496,
          126.6258627920578,
          118.82980828922118,
          111.48040766420081,
          105.34143715274692,
          98.93073778748875,
          93.7486929444302,
          88.45364342749683,
          84.27530866414038,
          80.385131688839,
          76.64528097600949,
          72.30172887218052,
          69.85635273274691,
          67.65083080855753,
          63.166097139364865,
          61.0741057603088,
          58.259265454062735,
          56.011834037554,
          54.80714724344297,
          52.55867014900907,
          50.42400821314376,
          49.49774597486731,
          47.76400148951388,
          45.72832604450624,
          44.42090002185701,
          43.24248019271643,
          42.033402968425406,
          40.94927656247134,
          39.94865769184647,
          39.0173105698279,
          38.12089030072789,
          37.292365500409,
          36.846486061589616,
          35.784833306339095,
          35.089538322228904,
          34.85572144046279,
          34.440996311707586,
          33.567598818082814,
          32.7525285889651,
          32.26489610542387,
          31.86483745175999,
          31.343899331974526,
          31.18716906530851,
          30.523254453755087,
          30.16822115571533,
          29.882806425585475,
          29.64828126286073,
          29.16023798514604,
          28.86426824565903,
          28.739489139563997,
          28.41311424551379,
          28.27449700732676,
          28.11370505656763,
          27.921762516883394,
          27.638389922449207,
          27.33426491749118,
          27.184210394732215,
          26.97730824685182,
          26.90092339189041,
          26.634465386115853,
          26.40422865941778,
          26.266596121112574,
          26.1285395260427,
          26.01591805940986,
          26.023126647254912,
          26.47284603663909,
          25.688368018967605,
          25.733730688012745,
          25.4861491667894,
          25.40682767551703,
          25.364469855818268,
          25.400746739176554,
          25.269653277276287,
          25.09365135831315,
          25.028828302922445,
          25.190543695844582,
          25.05102677099479,
          24.862071616460085,
          25.08680758924787,
          24.82713334074856,
          24.69786232877372
         ],
         "yaxis": "y"
        }
       ],
       "layout": {
        "legend": {
         "title": {
          "text": "variable"
         },
         "tracegroupgap": 0
        },
        "template": {
         "data": {
          "bar": [
           {
            "error_x": {
             "color": "#2a3f5f"
            },
            "error_y": {
             "color": "#2a3f5f"
            },
            "marker": {
             "line": {
              "color": "#E5ECF6",
              "width": 0.5
             },
             "pattern": {
              "fillmode": "overlay",
              "size": 10,
              "solidity": 0.2
             }
            },
            "type": "bar"
           }
          ],
          "barpolar": [
           {
            "marker": {
             "line": {
              "color": "#E5ECF6",
              "width": 0.5
             },
             "pattern": {
              "fillmode": "overlay",
              "size": 10,
              "solidity": 0.2
             }
            },
            "type": "barpolar"
           }
          ],
          "carpet": [
           {
            "aaxis": {
             "endlinecolor": "#2a3f5f",
             "gridcolor": "white",
             "linecolor": "white",
             "minorgridcolor": "white",
             "startlinecolor": "#2a3f5f"
            },
            "baxis": {
             "endlinecolor": "#2a3f5f",
             "gridcolor": "white",
             "linecolor": "white",
             "minorgridcolor": "white",
             "startlinecolor": "#2a3f5f"
            },
            "type": "carpet"
           }
          ],
          "choropleth": [
           {
            "colorbar": {
             "outlinewidth": 0,
             "ticks": ""
            },
            "type": "choropleth"
           }
          ],
          "contour": [
           {
            "colorbar": {
             "outlinewidth": 0,
             "ticks": ""
            },
            "colorscale": [
             [
              0,
              "#0d0887"
             ],
             [
              0.1111111111111111,
              "#46039f"
             ],
             [
              0.2222222222222222,
              "#7201a8"
             ],
             [
              0.3333333333333333,
              "#9c179e"
             ],
             [
              0.4444444444444444,
              "#bd3786"
             ],
             [
              0.5555555555555556,
              "#d8576b"
             ],
             [
              0.6666666666666666,
              "#ed7953"
             ],
             [
              0.7777777777777778,
              "#fb9f3a"
             ],
             [
              0.8888888888888888,
              "#fdca26"
             ],
             [
              1,
              "#f0f921"
             ]
            ],
            "type": "contour"
           }
          ],
          "contourcarpet": [
           {
            "colorbar": {
             "outlinewidth": 0,
             "ticks": ""
            },
            "type": "contourcarpet"
           }
          ],
          "heatmap": [
           {
            "colorbar": {
             "outlinewidth": 0,
             "ticks": ""
            },
            "colorscale": [
             [
              0,
              "#0d0887"
             ],
             [
              0.1111111111111111,
              "#46039f"
             ],
             [
              0.2222222222222222,
              "#7201a8"
             ],
             [
              0.3333333333333333,
              "#9c179e"
             ],
             [
              0.4444444444444444,
              "#bd3786"
             ],
             [
              0.5555555555555556,
              "#d8576b"
             ],
             [
              0.6666666666666666,
              "#ed7953"
             ],
             [
              0.7777777777777778,
              "#fb9f3a"
             ],
             [
              0.8888888888888888,
              "#fdca26"
             ],
             [
              1,
              "#f0f921"
             ]
            ],
            "type": "heatmap"
           }
          ],
          "heatmapgl": [
           {
            "colorbar": {
             "outlinewidth": 0,
             "ticks": ""
            },
            "colorscale": [
             [
              0,
              "#0d0887"
             ],
             [
              0.1111111111111111,
              "#46039f"
             ],
             [
              0.2222222222222222,
              "#7201a8"
             ],
             [
              0.3333333333333333,
              "#9c179e"
             ],
             [
              0.4444444444444444,
              "#bd3786"
             ],
             [
              0.5555555555555556,
              "#d8576b"
             ],
             [
              0.6666666666666666,
              "#ed7953"
             ],
             [
              0.7777777777777778,
              "#fb9f3a"
             ],
             [
              0.8888888888888888,
              "#fdca26"
             ],
             [
              1,
              "#f0f921"
             ]
            ],
            "type": "heatmapgl"
           }
          ],
          "histogram": [
           {
            "marker": {
             "pattern": {
              "fillmode": "overlay",
              "size": 10,
              "solidity": 0.2
             }
            },
            "type": "histogram"
           }
          ],
          "histogram2d": [
           {
            "colorbar": {
             "outlinewidth": 0,
             "ticks": ""
            },
            "colorscale": [
             [
              0,
              "#0d0887"
             ],
             [
              0.1111111111111111,
              "#46039f"
             ],
             [
              0.2222222222222222,
              "#7201a8"
             ],
             [
              0.3333333333333333,
              "#9c179e"
             ],
             [
              0.4444444444444444,
              "#bd3786"
             ],
             [
              0.5555555555555556,
              "#d8576b"
             ],
             [
              0.6666666666666666,
              "#ed7953"
             ],
             [
              0.7777777777777778,
              "#fb9f3a"
             ],
             [
              0.8888888888888888,
              "#fdca26"
             ],
             [
              1,
              "#f0f921"
             ]
            ],
            "type": "histogram2d"
           }
          ],
          "histogram2dcontour": [
           {
            "colorbar": {
             "outlinewidth": 0,
             "ticks": ""
            },
            "colorscale": [
             [
              0,
              "#0d0887"
             ],
             [
              0.1111111111111111,
              "#46039f"
             ],
             [
              0.2222222222222222,
              "#7201a8"
             ],
             [
              0.3333333333333333,
              "#9c179e"
             ],
             [
              0.4444444444444444,
              "#bd3786"
             ],
             [
              0.5555555555555556,
              "#d8576b"
             ],
             [
              0.6666666666666666,
              "#ed7953"
             ],
             [
              0.7777777777777778,
              "#fb9f3a"
             ],
             [
              0.8888888888888888,
              "#fdca26"
             ],
             [
              1,
              "#f0f921"
             ]
            ],
            "type": "histogram2dcontour"
           }
          ],
          "mesh3d": [
           {
            "colorbar": {
             "outlinewidth": 0,
             "ticks": ""
            },
            "type": "mesh3d"
           }
          ],
          "parcoords": [
           {
            "line": {
             "colorbar": {
              "outlinewidth": 0,
              "ticks": ""
             }
            },
            "type": "parcoords"
           }
          ],
          "pie": [
           {
            "automargin": true,
            "type": "pie"
           }
          ],
          "scatter": [
           {
            "marker": {
             "colorbar": {
              "outlinewidth": 0,
              "ticks": ""
             }
            },
            "type": "scatter"
           }
          ],
          "scatter3d": [
           {
            "line": {
             "colorbar": {
              "outlinewidth": 0,
              "ticks": ""
             }
            },
            "marker": {
             "colorbar": {
              "outlinewidth": 0,
              "ticks": ""
             }
            },
            "type": "scatter3d"
           }
          ],
          "scattercarpet": [
           {
            "marker": {
             "colorbar": {
              "outlinewidth": 0,
              "ticks": ""
             }
            },
            "type": "scattercarpet"
           }
          ],
          "scattergeo": [
           {
            "marker": {
             "colorbar": {
              "outlinewidth": 0,
              "ticks": ""
             }
            },
            "type": "scattergeo"
           }
          ],
          "scattergl": [
           {
            "marker": {
             "colorbar": {
              "outlinewidth": 0,
              "ticks": ""
             }
            },
            "type": "scattergl"
           }
          ],
          "scattermapbox": [
           {
            "marker": {
             "colorbar": {
              "outlinewidth": 0,
              "ticks": ""
             }
            },
            "type": "scattermapbox"
           }
          ],
          "scatterpolar": [
           {
            "marker": {
             "colorbar": {
              "outlinewidth": 0,
              "ticks": ""
             }
            },
            "type": "scatterpolar"
           }
          ],
          "scatterpolargl": [
           {
            "marker": {
             "colorbar": {
              "outlinewidth": 0,
              "ticks": ""
             }
            },
            "type": "scatterpolargl"
           }
          ],
          "scatterternary": [
           {
            "marker": {
             "colorbar": {
              "outlinewidth": 0,
              "ticks": ""
             }
            },
            "type": "scatterternary"
           }
          ],
          "surface": [
           {
            "colorbar": {
             "outlinewidth": 0,
             "ticks": ""
            },
            "colorscale": [
             [
              0,
              "#0d0887"
             ],
             [
              0.1111111111111111,
              "#46039f"
             ],
             [
              0.2222222222222222,
              "#7201a8"
             ],
             [
              0.3333333333333333,
              "#9c179e"
             ],
             [
              0.4444444444444444,
              "#bd3786"
             ],
             [
              0.5555555555555556,
              "#d8576b"
             ],
             [
              0.6666666666666666,
              "#ed7953"
             ],
             [
              0.7777777777777778,
              "#fb9f3a"
             ],
             [
              0.8888888888888888,
              "#fdca26"
             ],
             [
              1,
              "#f0f921"
             ]
            ],
            "type": "surface"
           }
          ],
          "table": [
           {
            "cells": {
             "fill": {
              "color": "#EBF0F8"
             },
             "line": {
              "color": "white"
             }
            },
            "header": {
             "fill": {
              "color": "#C8D4E3"
             },
             "line": {
              "color": "white"
             }
            },
            "type": "table"
           }
          ]
         },
         "layout": {
          "annotationdefaults": {
           "arrowcolor": "#2a3f5f",
           "arrowhead": 0,
           "arrowwidth": 1
          },
          "autotypenumbers": "strict",
          "coloraxis": {
           "colorbar": {
            "outlinewidth": 0,
            "ticks": ""
           }
          },
          "colorscale": {
           "diverging": [
            [
             0,
             "#8e0152"
            ],
            [
             0.1,
             "#c51b7d"
            ],
            [
             0.2,
             "#de77ae"
            ],
            [
             0.3,
             "#f1b6da"
            ],
            [
             0.4,
             "#fde0ef"
            ],
            [
             0.5,
             "#f7f7f7"
            ],
            [
             0.6,
             "#e6f5d0"
            ],
            [
             0.7,
             "#b8e186"
            ],
            [
             0.8,
             "#7fbc41"
            ],
            [
             0.9,
             "#4d9221"
            ],
            [
             1,
             "#276419"
            ]
           ],
           "sequential": [
            [
             0,
             "#0d0887"
            ],
            [
             0.1111111111111111,
             "#46039f"
            ],
            [
             0.2222222222222222,
             "#7201a8"
            ],
            [
             0.3333333333333333,
             "#9c179e"
            ],
            [
             0.4444444444444444,
             "#bd3786"
            ],
            [
             0.5555555555555556,
             "#d8576b"
            ],
            [
             0.6666666666666666,
             "#ed7953"
            ],
            [
             0.7777777777777778,
             "#fb9f3a"
            ],
            [
             0.8888888888888888,
             "#fdca26"
            ],
            [
             1,
             "#f0f921"
            ]
           ],
           "sequentialminus": [
            [
             0,
             "#0d0887"
            ],
            [
             0.1111111111111111,
             "#46039f"
            ],
            [
             0.2222222222222222,
             "#7201a8"
            ],
            [
             0.3333333333333333,
             "#9c179e"
            ],
            [
             0.4444444444444444,
             "#bd3786"
            ],
            [
             0.5555555555555556,
             "#d8576b"
            ],
            [
             0.6666666666666666,
             "#ed7953"
            ],
            [
             0.7777777777777778,
             "#fb9f3a"
            ],
            [
             0.8888888888888888,
             "#fdca26"
            ],
            [
             1,
             "#f0f921"
            ]
           ]
          },
          "colorway": [
           "#636efa",
           "#EF553B",
           "#00cc96",
           "#ab63fa",
           "#FFA15A",
           "#19d3f3",
           "#FF6692",
           "#B6E880",
           "#FF97FF",
           "#FECB52"
          ],
          "font": {
           "color": "#2a3f5f"
          },
          "geo": {
           "bgcolor": "white",
           "lakecolor": "white",
           "landcolor": "#E5ECF6",
           "showlakes": true,
           "showland": true,
           "subunitcolor": "white"
          },
          "hoverlabel": {
           "align": "left"
          },
          "hovermode": "closest",
          "mapbox": {
           "style": "light"
          },
          "paper_bgcolor": "white",
          "plot_bgcolor": "#E5ECF6",
          "polar": {
           "angularaxis": {
            "gridcolor": "white",
            "linecolor": "white",
            "ticks": ""
           },
           "bgcolor": "#E5ECF6",
           "radialaxis": {
            "gridcolor": "white",
            "linecolor": "white",
            "ticks": ""
           }
          },
          "scene": {
           "xaxis": {
            "backgroundcolor": "#E5ECF6",
            "gridcolor": "white",
            "gridwidth": 2,
            "linecolor": "white",
            "showbackground": true,
            "ticks": "",
            "zerolinecolor": "white"
           },
           "yaxis": {
            "backgroundcolor": "#E5ECF6",
            "gridcolor": "white",
            "gridwidth": 2,
            "linecolor": "white",
            "showbackground": true,
            "ticks": "",
            "zerolinecolor": "white"
           },
           "zaxis": {
            "backgroundcolor": "#E5ECF6",
            "gridcolor": "white",
            "gridwidth": 2,
            "linecolor": "white",
            "showbackground": true,
            "ticks": "",
            "zerolinecolor": "white"
           }
          },
          "shapedefaults": {
           "line": {
            "color": "#2a3f5f"
           }
          },
          "ternary": {
           "aaxis": {
            "gridcolor": "white",
            "linecolor": "white",
            "ticks": ""
           },
           "baxis": {
            "gridcolor": "white",
            "linecolor": "white",
            "ticks": ""
           },
           "bgcolor": "#E5ECF6",
           "caxis": {
            "gridcolor": "white",
            "linecolor": "white",
            "ticks": ""
           }
          },
          "title": {
           "x": 0.05
          },
          "xaxis": {
           "automargin": true,
           "gridcolor": "white",
           "linecolor": "white",
           "ticks": "",
           "title": {
            "standoff": 15
           },
           "zerolinecolor": "white",
           "zerolinewidth": 2
          },
          "yaxis": {
           "automargin": true,
           "gridcolor": "white",
           "linecolor": "white",
           "ticks": "",
           "title": {
            "standoff": 15
           },
           "zerolinecolor": "white",
           "zerolinewidth": 2
          }
         }
        },
        "title": {
         "text": "Loss"
        },
        "xaxis": {
         "anchor": "y",
         "domain": [
          0,
          1
         ],
         "title": {
          "text": "index"
         }
        },
        "yaxis": {
         "anchor": "x",
         "domain": [
          0,
          1
         ],
         "title": {
          "text": "value"
         }
        }
       }
      },
      "text/html": [
       "<div>                            <div id=\"d96eac3e-6b63-47f7-b52f-81e03c6ec6d2\" class=\"plotly-graph-div\" style=\"height:525px; width:100%;\"></div>            <script type=\"text/javascript\">                require([\"plotly\"], function(Plotly) {                    window.PLOTLYENV=window.PLOTLYENV || {};                                    if (document.getElementById(\"d96eac3e-6b63-47f7-b52f-81e03c6ec6d2\")) {                    Plotly.newPlot(                        \"d96eac3e-6b63-47f7-b52f-81e03c6ec6d2\",                        [{\"hovertemplate\":\"variable=0<br>index=%{x}<br>value=%{y}<extra></extra>\",\"legendgroup\":\"0\",\"line\":{\"color\":\"#636efa\",\"dash\":\"solid\"},\"marker\":{\"symbol\":\"circle\"},\"mode\":\"lines\",\"name\":\"0\",\"orientation\":\"v\",\"showlegend\":true,\"x\":[0,1,2,3,4,5,6,7,8,9,10,11,12,13,14,15,16,17,18,19,20,21,22,23,24,25,26,27,28,29,30,31,32,33,34,35,36,37,38,39,40,41,42,43,44,45,46,47,48,49,50,51,52,53,54,55,56,57,58,59,60,61,62,63,64,65,66,67,68,69,70,71,72,73,74,75,76,77,78,79,80,81,82,83,84,85,86,87,88,89,90,91,92,93,94,95,96,97,98,99],\"xaxis\":\"x\",\"y\":[2500.961563180905,684.6755310892338,603.0925006598483,537.1879171947003,478.02308477996615,430.30761698825796,387.9577944003844,351.3350540917202,320.8478928057588,294.00078399839373,267.71546914062094,246.43144628928715,226.7513735547129,211.77239412416424,195.37356156048068,179.40958235744924,166.57994008516616,155.5642840421056,144.64551053937646,136.2321499369496,126.6258627920578,118.82980828922118,111.48040766420081,105.34143715274692,98.93073778748875,93.7486929444302,88.45364342749683,84.27530866414038,80.385131688839,76.64528097600949,72.30172887218052,69.85635273274691,67.65083080855753,63.166097139364865,61.0741057603088,58.259265454062735,56.011834037554,54.80714724344297,52.55867014900907,50.42400821314376,49.49774597486731,47.76400148951388,45.72832604450624,44.42090002185701,43.24248019271643,42.033402968425406,40.94927656247134,39.94865769184647,39.0173105698279,38.12089030072789,37.292365500409,36.846486061589616,35.784833306339095,35.089538322228904,34.85572144046279,34.440996311707586,33.567598818082814,32.7525285889651,32.26489610542387,31.86483745175999,31.343899331974526,31.18716906530851,30.523254453755087,30.16822115571533,29.882806425585475,29.64828126286073,29.16023798514604,28.86426824565903,28.739489139563997,28.41311424551379,28.27449700732676,28.11370505656763,27.921762516883394,27.638389922449207,27.33426491749118,27.184210394732215,26.97730824685182,26.90092339189041,26.634465386115853,26.40422865941778,26.266596121112574,26.1285395260427,26.01591805940986,26.023126647254912,26.47284603663909,25.688368018967605,25.733730688012745,25.4861491667894,25.40682767551703,25.364469855818268,25.400746739176554,25.269653277276287,25.09365135831315,25.028828302922445,25.190543695844582,25.05102677099479,24.862071616460085,25.08680758924787,24.82713334074856,24.69786232877372],\"yaxis\":\"y\",\"type\":\"scatter\"}],                        {\"template\":{\"data\":{\"bar\":[{\"error_x\":{\"color\":\"#2a3f5f\"},\"error_y\":{\"color\":\"#2a3f5f\"},\"marker\":{\"line\":{\"color\":\"#E5ECF6\",\"width\":0.5},\"pattern\":{\"fillmode\":\"overlay\",\"size\":10,\"solidity\":0.2}},\"type\":\"bar\"}],\"barpolar\":[{\"marker\":{\"line\":{\"color\":\"#E5ECF6\",\"width\":0.5},\"pattern\":{\"fillmode\":\"overlay\",\"size\":10,\"solidity\":0.2}},\"type\":\"barpolar\"}],\"carpet\":[{\"aaxis\":{\"endlinecolor\":\"#2a3f5f\",\"gridcolor\":\"white\",\"linecolor\":\"white\",\"minorgridcolor\":\"white\",\"startlinecolor\":\"#2a3f5f\"},\"baxis\":{\"endlinecolor\":\"#2a3f5f\",\"gridcolor\":\"white\",\"linecolor\":\"white\",\"minorgridcolor\":\"white\",\"startlinecolor\":\"#2a3f5f\"},\"type\":\"carpet\"}],\"choropleth\":[{\"colorbar\":{\"outlinewidth\":0,\"ticks\":\"\"},\"type\":\"choropleth\"}],\"contour\":[{\"colorbar\":{\"outlinewidth\":0,\"ticks\":\"\"},\"colorscale\":[[0.0,\"#0d0887\"],[0.1111111111111111,\"#46039f\"],[0.2222222222222222,\"#7201a8\"],[0.3333333333333333,\"#9c179e\"],[0.4444444444444444,\"#bd3786\"],[0.5555555555555556,\"#d8576b\"],[0.6666666666666666,\"#ed7953\"],[0.7777777777777778,\"#fb9f3a\"],[0.8888888888888888,\"#fdca26\"],[1.0,\"#f0f921\"]],\"type\":\"contour\"}],\"contourcarpet\":[{\"colorbar\":{\"outlinewidth\":0,\"ticks\":\"\"},\"type\":\"contourcarpet\"}],\"heatmap\":[{\"colorbar\":{\"outlinewidth\":0,\"ticks\":\"\"},\"colorscale\":[[0.0,\"#0d0887\"],[0.1111111111111111,\"#46039f\"],[0.2222222222222222,\"#7201a8\"],[0.3333333333333333,\"#9c179e\"],[0.4444444444444444,\"#bd3786\"],[0.5555555555555556,\"#d8576b\"],[0.6666666666666666,\"#ed7953\"],[0.7777777777777778,\"#fb9f3a\"],[0.8888888888888888,\"#fdca26\"],[1.0,\"#f0f921\"]],\"type\":\"heatmap\"}],\"heatmapgl\":[{\"colorbar\":{\"outlinewidth\":0,\"ticks\":\"\"},\"colorscale\":[[0.0,\"#0d0887\"],[0.1111111111111111,\"#46039f\"],[0.2222222222222222,\"#7201a8\"],[0.3333333333333333,\"#9c179e\"],[0.4444444444444444,\"#bd3786\"],[0.5555555555555556,\"#d8576b\"],[0.6666666666666666,\"#ed7953\"],[0.7777777777777778,\"#fb9f3a\"],[0.8888888888888888,\"#fdca26\"],[1.0,\"#f0f921\"]],\"type\":\"heatmapgl\"}],\"histogram\":[{\"marker\":{\"pattern\":{\"fillmode\":\"overlay\",\"size\":10,\"solidity\":0.2}},\"type\":\"histogram\"}],\"histogram2d\":[{\"colorbar\":{\"outlinewidth\":0,\"ticks\":\"\"},\"colorscale\":[[0.0,\"#0d0887\"],[0.1111111111111111,\"#46039f\"],[0.2222222222222222,\"#7201a8\"],[0.3333333333333333,\"#9c179e\"],[0.4444444444444444,\"#bd3786\"],[0.5555555555555556,\"#d8576b\"],[0.6666666666666666,\"#ed7953\"],[0.7777777777777778,\"#fb9f3a\"],[0.8888888888888888,\"#fdca26\"],[1.0,\"#f0f921\"]],\"type\":\"histogram2d\"}],\"histogram2dcontour\":[{\"colorbar\":{\"outlinewidth\":0,\"ticks\":\"\"},\"colorscale\":[[0.0,\"#0d0887\"],[0.1111111111111111,\"#46039f\"],[0.2222222222222222,\"#7201a8\"],[0.3333333333333333,\"#9c179e\"],[0.4444444444444444,\"#bd3786\"],[0.5555555555555556,\"#d8576b\"],[0.6666666666666666,\"#ed7953\"],[0.7777777777777778,\"#fb9f3a\"],[0.8888888888888888,\"#fdca26\"],[1.0,\"#f0f921\"]],\"type\":\"histogram2dcontour\"}],\"mesh3d\":[{\"colorbar\":{\"outlinewidth\":0,\"ticks\":\"\"},\"type\":\"mesh3d\"}],\"parcoords\":[{\"line\":{\"colorbar\":{\"outlinewidth\":0,\"ticks\":\"\"}},\"type\":\"parcoords\"}],\"pie\":[{\"automargin\":true,\"type\":\"pie\"}],\"scatter\":[{\"marker\":{\"colorbar\":{\"outlinewidth\":0,\"ticks\":\"\"}},\"type\":\"scatter\"}],\"scatter3d\":[{\"line\":{\"colorbar\":{\"outlinewidth\":0,\"ticks\":\"\"}},\"marker\":{\"colorbar\":{\"outlinewidth\":0,\"ticks\":\"\"}},\"type\":\"scatter3d\"}],\"scattercarpet\":[{\"marker\":{\"colorbar\":{\"outlinewidth\":0,\"ticks\":\"\"}},\"type\":\"scattercarpet\"}],\"scattergeo\":[{\"marker\":{\"colorbar\":{\"outlinewidth\":0,\"ticks\":\"\"}},\"type\":\"scattergeo\"}],\"scattergl\":[{\"marker\":{\"colorbar\":{\"outlinewidth\":0,\"ticks\":\"\"}},\"type\":\"scattergl\"}],\"scattermapbox\":[{\"marker\":{\"colorbar\":{\"outlinewidth\":0,\"ticks\":\"\"}},\"type\":\"scattermapbox\"}],\"scatterpolar\":[{\"marker\":{\"colorbar\":{\"outlinewidth\":0,\"ticks\":\"\"}},\"type\":\"scatterpolar\"}],\"scatterpolargl\":[{\"marker\":{\"colorbar\":{\"outlinewidth\":0,\"ticks\":\"\"}},\"type\":\"scatterpolargl\"}],\"scatterternary\":[{\"marker\":{\"colorbar\":{\"outlinewidth\":0,\"ticks\":\"\"}},\"type\":\"scatterternary\"}],\"surface\":[{\"colorbar\":{\"outlinewidth\":0,\"ticks\":\"\"},\"colorscale\":[[0.0,\"#0d0887\"],[0.1111111111111111,\"#46039f\"],[0.2222222222222222,\"#7201a8\"],[0.3333333333333333,\"#9c179e\"],[0.4444444444444444,\"#bd3786\"],[0.5555555555555556,\"#d8576b\"],[0.6666666666666666,\"#ed7953\"],[0.7777777777777778,\"#fb9f3a\"],[0.8888888888888888,\"#fdca26\"],[1.0,\"#f0f921\"]],\"type\":\"surface\"}],\"table\":[{\"cells\":{\"fill\":{\"color\":\"#EBF0F8\"},\"line\":{\"color\":\"white\"}},\"header\":{\"fill\":{\"color\":\"#C8D4E3\"},\"line\":{\"color\":\"white\"}},\"type\":\"table\"}]},\"layout\":{\"annotationdefaults\":{\"arrowcolor\":\"#2a3f5f\",\"arrowhead\":0,\"arrowwidth\":1},\"autotypenumbers\":\"strict\",\"coloraxis\":{\"colorbar\":{\"outlinewidth\":0,\"ticks\":\"\"}},\"colorscale\":{\"diverging\":[[0,\"#8e0152\"],[0.1,\"#c51b7d\"],[0.2,\"#de77ae\"],[0.3,\"#f1b6da\"],[0.4,\"#fde0ef\"],[0.5,\"#f7f7f7\"],[0.6,\"#e6f5d0\"],[0.7,\"#b8e186\"],[0.8,\"#7fbc41\"],[0.9,\"#4d9221\"],[1,\"#276419\"]],\"sequential\":[[0.0,\"#0d0887\"],[0.1111111111111111,\"#46039f\"],[0.2222222222222222,\"#7201a8\"],[0.3333333333333333,\"#9c179e\"],[0.4444444444444444,\"#bd3786\"],[0.5555555555555556,\"#d8576b\"],[0.6666666666666666,\"#ed7953\"],[0.7777777777777778,\"#fb9f3a\"],[0.8888888888888888,\"#fdca26\"],[1.0,\"#f0f921\"]],\"sequentialminus\":[[0.0,\"#0d0887\"],[0.1111111111111111,\"#46039f\"],[0.2222222222222222,\"#7201a8\"],[0.3333333333333333,\"#9c179e\"],[0.4444444444444444,\"#bd3786\"],[0.5555555555555556,\"#d8576b\"],[0.6666666666666666,\"#ed7953\"],[0.7777777777777778,\"#fb9f3a\"],[0.8888888888888888,\"#fdca26\"],[1.0,\"#f0f921\"]]},\"colorway\":[\"#636efa\",\"#EF553B\",\"#00cc96\",\"#ab63fa\",\"#FFA15A\",\"#19d3f3\",\"#FF6692\",\"#B6E880\",\"#FF97FF\",\"#FECB52\"],\"font\":{\"color\":\"#2a3f5f\"},\"geo\":{\"bgcolor\":\"white\",\"lakecolor\":\"white\",\"landcolor\":\"#E5ECF6\",\"showlakes\":true,\"showland\":true,\"subunitcolor\":\"white\"},\"hoverlabel\":{\"align\":\"left\"},\"hovermode\":\"closest\",\"mapbox\":{\"style\":\"light\"},\"paper_bgcolor\":\"white\",\"plot_bgcolor\":\"#E5ECF6\",\"polar\":{\"angularaxis\":{\"gridcolor\":\"white\",\"linecolor\":\"white\",\"ticks\":\"\"},\"bgcolor\":\"#E5ECF6\",\"radialaxis\":{\"gridcolor\":\"white\",\"linecolor\":\"white\",\"ticks\":\"\"}},\"scene\":{\"xaxis\":{\"backgroundcolor\":\"#E5ECF6\",\"gridcolor\":\"white\",\"gridwidth\":2,\"linecolor\":\"white\",\"showbackground\":true,\"ticks\":\"\",\"zerolinecolor\":\"white\"},\"yaxis\":{\"backgroundcolor\":\"#E5ECF6\",\"gridcolor\":\"white\",\"gridwidth\":2,\"linecolor\":\"white\",\"showbackground\":true,\"ticks\":\"\",\"zerolinecolor\":\"white\"},\"zaxis\":{\"backgroundcolor\":\"#E5ECF6\",\"gridcolor\":\"white\",\"gridwidth\":2,\"linecolor\":\"white\",\"showbackground\":true,\"ticks\":\"\",\"zerolinecolor\":\"white\"}},\"shapedefaults\":{\"line\":{\"color\":\"#2a3f5f\"}},\"ternary\":{\"aaxis\":{\"gridcolor\":\"white\",\"linecolor\":\"white\",\"ticks\":\"\"},\"baxis\":{\"gridcolor\":\"white\",\"linecolor\":\"white\",\"ticks\":\"\"},\"bgcolor\":\"#E5ECF6\",\"caxis\":{\"gridcolor\":\"white\",\"linecolor\":\"white\",\"ticks\":\"\"}},\"title\":{\"x\":0.05},\"xaxis\":{\"automargin\":true,\"gridcolor\":\"white\",\"linecolor\":\"white\",\"ticks\":\"\",\"title\":{\"standoff\":15},\"zerolinecolor\":\"white\",\"zerolinewidth\":2},\"yaxis\":{\"automargin\":true,\"gridcolor\":\"white\",\"linecolor\":\"white\",\"ticks\":\"\",\"title\":{\"standoff\":15},\"zerolinecolor\":\"white\",\"zerolinewidth\":2}}},\"xaxis\":{\"anchor\":\"y\",\"domain\":[0.0,1.0],\"title\":{\"text\":\"index\"}},\"yaxis\":{\"anchor\":\"x\",\"domain\":[0.0,1.0],\"title\":{\"text\":\"value\"}},\"legend\":{\"title\":{\"text\":\"variable\"},\"tracegroupgap\":0},\"title\":{\"text\":\"Loss\"}},                        {\"responsive\": true}                    ).then(function(){\n",
       "                            \n",
       "var gd = document.getElementById('d96eac3e-6b63-47f7-b52f-81e03c6ec6d2');\n",
       "var x = new MutationObserver(function (mutations, observer) {{\n",
       "        var display = window.getComputedStyle(gd).display;\n",
       "        if (!display || display === 'none') {{\n",
       "            console.log([gd, 'removed!']);\n",
       "            Plotly.purge(gd);\n",
       "            observer.disconnect();\n",
       "        }}\n",
       "}});\n",
       "\n",
       "// Listen for the removal of the full notebook cells\n",
       "var notebookContainer = gd.closest('#notebook-container');\n",
       "if (notebookContainer) {{\n",
       "    x.observe(notebookContainer, {childList: true});\n",
       "}}\n",
       "\n",
       "// Listen for the clearing of the current output cell\n",
       "var outputEl = gd.closest('.output');\n",
       "if (outputEl) {{\n",
       "    x.observe(outputEl, {childList: true});\n",
       "}}\n",
       "\n",
       "                        })                };                });            </script>        </div>"
      ]
     },
     "metadata": {},
     "output_type": "display_data"
    }
   ],
   "source": [
    "import plotly.express as px\n",
    "\n",
    "nn1 = NeuralNet([5, 5, 5, 1], 0.0005, ReLU, 100)\n",
    "\n",
    "fig = px.line(nn1.train(train_data, test_data), title='Loss')\n",
    "\n",
    "fig.show()"
   ]
  },
  {
   "cell_type": "code",
   "execution_count": 39,
   "id": "6b0cdeed",
   "metadata": {},
   "outputs": [
    {
     "name": "stdout",
     "output_type": "stream",
     "text": [
      "[0.09090909 0.14864865 0.27272727 1.         0.02805586] [134.034]\n",
      "res = [130.92056829], expected =[134.034]\n"
     ]
    }
   ],
   "source": [
    "print(test_data[0][0], test_data[0][1])\n",
    "    \n",
    "print(f\"res = {nn1.feed_forward(test_data[0][0])}, expected ={test_data[0][1]}\")"
   ]
  },
  {
   "cell_type": "code",
   "execution_count": 40,
   "id": "7a726cef",
   "metadata": {},
   "outputs": [
    {
     "name": "stdout",
     "output_type": "stream",
     "text": [
      "res = [125.93530854], expected =[126.54]\n"
     ]
    }
   ],
   "source": [
    "print(f\"res = {nn1.feed_forward(a[1000][0])}, expected ={a[1000][1]}\")"
   ]
  },
  {
   "cell_type": "code",
   "execution_count": 41,
   "id": "b3548432",
   "metadata": {},
   "outputs": [
    {
     "name": "stdout",
     "output_type": "stream",
     "text": [
      "res = [126.282756], expected =[130.05]\n"
     ]
    }
   ],
   "source": [
    "print(f\"res = {nn1.feed_forward(a[60][0])}, expected ={a[60][1]}\")"
   ]
  },
  {
   "cell_type": "code",
   "execution_count": 42,
   "id": "e31ce371",
   "metadata": {},
   "outputs": [
    {
     "name": "stdout",
     "output_type": "stream",
     "text": [
      "res = [116.34707907], expected =[123.514]\n"
     ]
    }
   ],
   "source": [
    "print(f\"res = {nn1.feed_forward(a[1502][0])}, expected ={a[1502][1]}\")"
   ]
  },
  {
   "cell_type": "code",
   "execution_count": 43,
   "id": "3aa9cf46",
   "metadata": {},
   "outputs": [
    {
     "name": "stdout",
     "output_type": "stream",
     "text": [
      "res = [110.29156629], expected =[104.204]\n"
     ]
    }
   ],
   "source": [
    "\n",
    "print(f\"res = {nn1.feed_forward(inp[1502])}, expected ={expected[1502]}\")"
   ]
  },
  {
   "cell_type": "code",
   "execution_count": null,
   "id": "73a09555",
   "metadata": {},
   "outputs": [],
   "source": []
  }
 ],
 "metadata": {
  "kernelspec": {
   "display_name": "Python 3 (ipykernel)",
   "language": "python",
   "name": "python3"
  },
  "language_info": {
   "codemirror_mode": {
    "name": "ipython",
    "version": 3
   },
   "file_extension": ".py",
   "mimetype": "text/x-python",
   "name": "python",
   "nbconvert_exporter": "python",
   "pygments_lexer": "ipython3",
   "version": "3.9.12"
  }
 },
 "nbformat": 4,
 "nbformat_minor": 5
}
